{
 "cells": [
  {
   "cell_type": "code",
   "execution_count": 1,
   "metadata": {},
   "outputs": [],
   "source": [
    "from flask import Flask, jsonify\n",
    "import numpy as np\n",
    "import json\n",
    "import sqlalchemy\n",
    "from sqlalchemy.ext.automap import automap_base\n",
    "from sqlalchemy.orm import Session\n",
    "from sqlalchemy import create_engine, func\n",
    "from bs4 import BeautifulSoup as bs\n",
    "import requests\n",
    "from splinter import Browser\n",
    "from flask import render_template"
   ]
  },
  {
   "cell_type": "code",
   "execution_count": null,
   "metadata": {},
   "outputs": [],
   "source": [
    "engine = create_engine(\"sqlite:///Resources/data/marriage_data.sqlite\")\n",
    "# reflect an existing database into a new model\n",
    "Base = automap_base()\n",
    "# reflect the tables\n",
    "Base.prepare(engine, reflect=True)\n",
    "# Save references to each table\n",
    "MarriageDivorce = Base.classes.national\n",
    "DivorceByState = Base.classes.DivorceByState\n",
    "MarriageByState = Base.classes.MarriageByState"
   ]
  },
  {
   "cell_type": "code",
   "execution_count": null,
   "metadata": {},
   "outputs": [],
   "source": [
    "app = Flask(__name__)"
   ]
  },
  {
   "cell_type": "markdown",
   "metadata": {},
   "source": [
    "Define what to do when a user a specific route"
   ]
  },
  {
   "cell_type": "code",
   "execution_count": null,
   "metadata": {},
   "outputs": [],
   "source": [
    "@app.route(\"/\")\n",
    "def index1():\n",
    "    return render_template(\"about.html\")"
   ]
  },
  {
   "cell_type": "code",
   "execution_count": null,
   "metadata": {},
   "outputs": [],
   "source": [
    "@app.route(\"/dashboardbystate.html\")\n",
    "def index2():\n",
    "    return render_template(\"dashboardbystate.html\")"
   ]
  },
  {
   "cell_type": "code",
   "execution_count": null,
   "metadata": {},
   "outputs": [],
   "source": [
    "@app.route(\"/about.html\")\n",
    "def home():\n",
    "    # print(\"Server received request for 'Home' page...\")\n",
    "     return render_template(\"about.html\")"
   ]
  },
  {
   "cell_type": "code",
   "execution_count": null,
   "metadata": {},
   "outputs": [],
   "source": [
    "@app.route('/dashboardbyeducation.html')\n",
    "def scrape538():\n",
    "### Setting up the browser\n",
    "    executable_path={'executable_path': 'chromedriver.exe'}\n",
    "    browser = Browser('chrome', **executable_path, headless=True)\n",
    "### 538 marriage isn't dead website\n",
    "    url = 'https://fivethirtyeight.com/features/marriage-isnt-dead-yet/'\n",
    "    browser.visit(url)\n",
    "    html = browser.html\n",
    "    soup = bs(html, 'html.parser')\n",
    "### get all 'p' tag\n",
    "    results = soup.find_all('p')\n",
    "### find images\n",
    "    image1 = soup.find('img', class_='wp-image-54890')['src']\n",
    "    image2 = soup.find('img', class_='wp-image-54889')['src']\n",
    "    image3 = soup.find('img', class_='wp-image-54887')['src']\n",
    "### convert to dict\n",
    "    result = {\n",
    "        'paragraph1': results[0].text.strip(),\n",
    "        'paragraph2': results[1].text.strip(),\n",
    "        'paragraph3': results[7].text.strip(),\n",
    "        'image1': image1,\n",
    "        'paragraph4': results[11].text.strip(),\n",
    "        'paragraph5': results[12].text.strip(),\n",
    "        'paragraph6': results[13].text.strip(),\n",
    "        'paragraph7': results[17].text.strip(),\n",
    "        'paragraph8': results[18].text.strip(),\n",
    "        'paragraph9': results[20].text.strip(),\n",
    "        'image2': image2,\n",
    "        'paragraph10': results[24].text.strip(),\n",
    "        'paragraph11': results[28].text.strip(),\n",
    "        'paragraph12': results[35].text.strip(),\n",
    "        'image3': image3,\n",
    "        'paragraph13': results[37].text.strip(),\n",
    "        'paragraph14': results[40].text.strip()\n",
    "    }\n",
    "    return render_template('dashboardbyeducation.html', data538=result)"
   ]
  },
  {
   "cell_type": "code",
   "execution_count": null,
   "metadata": {},
   "outputs": [],
   "source": [
    "@app.route(\"/api/v1.0/NationalMarriageDivorce\")\n",
    "def NationalMarriageDivorce():  \n",
    "    # Query\n",
    "    session = Session(engine)\n",
    "    results = session.query(MarriageDivorce.Year,MarriageDivorce.MarriageRate,MarriageDivorce.DivorceRate).all()\n",
    "    # create dict list\n",
    "    national = []\n",
    "    for Year,MarriageRate,DivorceRate in results:\n",
    "        nat_dict = {}\n",
    "        nat_dict[\"Year\"] = Year\n",
    "        nat_dict[\"Marriage_Rate\"] = MarriageRate\n",
    "        nat_dict[\"Divorce_Rate\"] = DivorceRate\n",
    "        national.append(nat_dict)\n",
    "    return jsonify(national)"
   ]
  },
  {
   "cell_type": "code",
   "execution_count": null,
   "metadata": {},
   "outputs": [],
   "source": [
    "@app.route(\"/api/v1.0/MarriageByState\")\n",
    "def MState():\n",
    "    # Query\n",
    "    session = Session(engine)\n",
    "    results = session.query(MarriageByState.state,MarriageByState.avg,MarriageByState.Year_2018,MarriageByState.Year_2017,MarriageByState.Year_2016,MarriageByState.Year_2015,MarriageByState.Year_2014,MarriageByState.Year_2013,MarriageByState.Year_2012,MarriageByState.Year_2011,MarriageByState.Year_2010,MarriageByState.Year_2009,MarriageByState.Year_2008,MarriageByState.Year_2007,MarriageByState.Year_2006,MarriageByState.Year_2005,MarriageByState.Year_2004,MarriageByState.Year_2003,MarriageByState.Year_2002,MarriageByState.Year_2001,MarriageByState.Year_2000,MarriageByState.Year_1999,MarriageByState.Year_1995,MarriageByState.Year_1990).all()\n",
    "    # create dict list\n",
    "    MarriageState = []\n",
    "    for state,avg,Year_2018,Year_2017,Year_2016,Year_2015,Year_2014,Year_2013,Year_2012,Year_2011,Year_2010,Year_2009,Year_2008,Year_2007,Year_2006,Year_2005,Year_2004,Year_2003,Year_2002,Year_2001,Year_2000,Year_1999,Year_1995,Year_1990 in results:\n",
    "        MS_dict = {}\n",
    "        MS_dict[\"state\"] = state\n",
    "        MS_dict[\"avg\"] = avg\n",
    "        MS_dict[\"Year_2018\"] = Year_2018\n",
    "        MS_dict[\"Year_2017\"] = Year_2017\n",
    "        MS_dict[\"Year_2016\"] = Year_2016\n",
    "        MS_dict[\"Year_2015\"] = Year_2015\n",
    "        MS_dict[\"Year_2014\"] = Year_2014\n",
    "        MS_dict[\"Year_2013\"] = Year_2013\n",
    "        MS_dict[\"Year_2012\"] = Year_2012\n",
    "        MS_dict[\"Year_2011\"] = Year_2011\n",
    "        MS_dict[\"Year_2010\"] = Year_2010\n",
    "        MS_dict[\"Year_2009\"] = Year_2009\n",
    "        MS_dict[\"Year_2008\"] = Year_2008\n",
    "        MS_dict[\"Year_2007\"] = Year_2007\n",
    "        MS_dict[\"Year_2006\"] = Year_2006\n",
    "        MS_dict[\"Year_2005\"] = Year_2005\n",
    "        MS_dict[\"Year_2004\"] = Year_2004\n",
    "        MS_dict[\"Year_2003\"] = Year_2003\n",
    "        MS_dict[\"Year_2002\"] = Year_2002\n",
    "        MS_dict[\"Year_2001\"] = Year_2001\n",
    "        MS_dict[\"Year_2000\"] = Year_2000\n",
    "        MS_dict[\"Year_1999\"] = Year_1999\n",
    "        MS_dict[\"Year_1995\"] = Year_1995\n",
    "        MS_dict[\"Year_1990\"] = Year_1990\n",
    "        MarriageState.append(MS_dict)\n",
    "    return jsonify(MarriageState)"
   ]
  },
  {
   "cell_type": "code",
   "execution_count": null,
   "metadata": {},
   "outputs": [],
   "source": [
    "@app.route(\"/api/v1.0/DivorceByState\")\n",
    "def DState():\n",
    "    # Query\n",
    "    session = Session(engine)\n",
    "    results = session.query(DivorceByState.state,DivorceByState.avg,DivorceByState.Year_2018,DivorceByState.Year_2017,DivorceByState.Year_2016,DivorceByState.Year_2015,DivorceByState.Year_2014,DivorceByState.Year_2013,DivorceByState.Year_2012,DivorceByState.Year_2011,DivorceByState.Year_2010,DivorceByState.Year_2009,DivorceByState.Year_2008,DivorceByState.Year_2007,DivorceByState.Year_2006,DivorceByState.Year_2005,DivorceByState.Year_2004,DivorceByState.Year_2003,DivorceByState.Year_2002,DivorceByState.Year_2001,DivorceByState.Year_2000,DivorceByState.Year_1999,DivorceByState.Year_1995,DivorceByState.Year_1990).all()\n",
    "    # create dict list\n",
    "    DivorceState = []\n",
    "    for state,avg,Year_2018,Year_2017,Year_2016,Year_2015,Year_2014,Year_2013,Year_2012,Year_2011,Year_2010,Year_2009,Year_2008,Year_2007,Year_2006,Year_2005,Year_2004,Year_2003,Year_2002,Year_2001,Year_2000,Year_1999,Year_1995,Year_1990 in results:\n",
    "        DS_dict = {}\n",
    "        DS_dict[\"state\"] = state\n",
    "        DS_dict[\"avg\"] = avg\n",
    "        DS_dict[\"Year_2018\"] = Year_2018\n",
    "        DS_dict[\"Year_2017\"] = Year_2017\n",
    "        DS_dict[\"Year_2016\"] = Year_2016\n",
    "        DS_dict[\"Year_2015\"] = Year_2015\n",
    "        DS_dict[\"Year_2014\"] = Year_2014\n",
    "        DS_dict[\"Year_2013\"] = Year_2013\n",
    "        DS_dict[\"Year_2012\"] = Year_2012\n",
    "        DS_dict[\"Year_2011\"] = Year_2011\n",
    "        DS_dict[\"Year_2010\"] = Year_2010\n",
    "        DS_dict[\"Year_2009\"] = Year_2009\n",
    "        DS_dict[\"Year_2008\"] = Year_2008\n",
    "        DS_dict[\"Year_2007\"] = Year_2007\n",
    "        DS_dict[\"Year_2006\"] = Year_2006\n",
    "        DS_dict[\"Year_2005\"] = Year_2005\n",
    "        DS_dict[\"Year_2004\"] = Year_2004\n",
    "        DS_dict[\"Year_2003\"] = Year_2003\n",
    "        DS_dict[\"Year_2002\"] = Year_2002\n",
    "        DS_dict[\"Year_2001\"] = Year_2001\n",
    "        DS_dict[\"Year_2000\"] = Year_2000\n",
    "        DS_dict[\"Year_1999\"] = Year_1999\n",
    "        DS_dict[\"Year_1995\"] = Year_1995\n",
    "        DS_dict[\"Year_1990\"] = Year_1990\n",
    "        DivorceState.append(DS_dict)\n",
    "    return jsonify(DivorceState)"
   ]
  },
  {
   "cell_type": "code",
   "execution_count": null,
   "metadata": {},
   "outputs": [],
   "source": [
    "@app.route(\"/api/v1.0/USA\")\n",
    "def USA():\n",
    "    with open('Resources/data/USA.json') as f:\n",
    "        data = json.load(f)\n",
    "    return data"
   ]
  },
  {
   "cell_type": "markdown",
   "metadata": {},
   "source": [
    "run app"
   ]
  },
  {
   "cell_type": "code",
   "execution_count": null,
   "metadata": {},
   "outputs": [],
   "source": [
    "if __name__ == \"__main__\":\n",
    "    app.run(debug=True)"
   ]
  }
 ],
 "metadata": {
  "kernelspec": {
   "display_name": "Python 3 (ipykernel)",
   "language": "python",
   "name": "python3"
  },
  "language_info": {
   "codemirror_mode": {
    "name": "ipython",
    "version": 3
   },
   "file_extension": ".py",
   "mimetype": "text/x-python",
   "name": "python",
   "nbconvert_exporter": "python",
   "pygments_lexer": "ipython3",
   "version": "3.11.4"
  }
 },
 "nbformat": 4,
 "nbformat_minor": 2
}
